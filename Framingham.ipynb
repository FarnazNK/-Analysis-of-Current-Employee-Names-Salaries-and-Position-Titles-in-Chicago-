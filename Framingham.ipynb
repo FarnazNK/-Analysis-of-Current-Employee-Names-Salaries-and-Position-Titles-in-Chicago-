{
  "cells": [
    {
      "cell_type": "markdown",
      "metadata": {
        "id": "view-in-github",
        "colab_type": "text"
      },
      "source": [
        "<a href=\"https://colab.research.google.com/github/FarnazNK/-Analysis-of-Current-Employee-Names-Salaries-and-Position-Titles-in-Chicago-/blob/main/Framingham.ipynb\" target=\"_parent\"><img src=\"https://colab.research.google.com/assets/colab-badge.svg\" alt=\"Open In Colab\"/></a>"
      ]
    },
    {
      "cell_type": "code",
      "execution_count": 1,
      "metadata": {
        "id": "7oQlM_Mc02av"
      },
      "outputs": [],
      "source": [
        "import pandas as pd\n",
        "import numpy as np"
      ]
    },
    {
      "cell_type": "code",
      "execution_count": null,
      "metadata": {
        "id": "Kq2cpJw01Ouj"
      },
      "outputs": [],
      "source": [
        "df=pd.read_csv('framingham.csv')\n",
        "df"
      ]
    },
    {
      "cell_type": "code",
      "execution_count": 3,
      "metadata": {
        "colab": {
          "base_uri": "https://localhost:8080/"
        },
        "id": "CgGRlxV11U0r",
        "outputId": "40a8f491-cd28-4a85-ca88-cc878608136d"
      },
      "outputs": [
        {
          "output_type": "stream",
          "name": "stdout",
          "text": [
            "<class 'pandas.core.frame.DataFrame'>\n",
            "RangeIndex: 4240 entries, 0 to 4239\n",
            "Data columns (total 16 columns):\n",
            " #   Column           Non-Null Count  Dtype  \n",
            "---  ------           --------------  -----  \n",
            " 0   male             4240 non-null   int64  \n",
            " 1   age              4240 non-null   int64  \n",
            " 2   education        4135 non-null   float64\n",
            " 3   currentSmoker    4240 non-null   int64  \n",
            " 4   cigsPerDay       4211 non-null   float64\n",
            " 5   BPMeds           4187 non-null   float64\n",
            " 6   prevalentStroke  4240 non-null   int64  \n",
            " 7   prevalentHyp     4240 non-null   int64  \n",
            " 8   diabetes         4240 non-null   int64  \n",
            " 9   totChol          4190 non-null   float64\n",
            " 10  sysBP            4240 non-null   float64\n",
            " 11  diaBP            4240 non-null   float64\n",
            " 12  BMI              4221 non-null   float64\n",
            " 13  heartRate        4239 non-null   float64\n",
            " 14  glucose          3852 non-null   float64\n",
            " 15  TenYearCHD       4240 non-null   int64  \n",
            "dtypes: float64(9), int64(7)\n",
            "memory usage: 530.1 KB\n"
          ]
        }
      ],
      "source": [
        "df.info()"
      ]
    },
    {
      "cell_type": "code",
      "execution_count": 4,
      "metadata": {
        "colab": {
          "base_uri": "https://localhost:8080/"
        },
        "id": "srYb6wpj1aOH",
        "outputId": "88f27a3a-f438-4ada-ff81-03755032f5d2"
      },
      "outputs": [
        {
          "output_type": "stream",
          "name": "stdout",
          "text": [
            "male                0.0%\n",
            "age                 0.0%\n",
            "education          2.48%\n",
            "currentSmoker       0.0%\n",
            "cigsPerDay         0.68%\n",
            "BPMeds             1.25%\n",
            "prevalentStroke     0.0%\n",
            "prevalentHyp        0.0%\n",
            "diabetes            0.0%\n",
            "totChol            1.18%\n",
            "sysBP               0.0%\n",
            "diaBP               0.0%\n",
            "BMI                0.45%\n",
            "heartRate          0.02%\n",
            "glucose            9.15%\n",
            "TenYearCHD          0.0%\n",
            "dtype: object\n"
          ]
        }
      ],
      "source": [
        "df.isna().sum()\n",
        "# Calculate the percentage of missing values for each column\n",
        "missing_data  = df.isnull().sum() * 100 / len(df)\n",
        "missing_data = missing_data.round(2).astype(str) + '%'\n",
        "\n",
        "# Print or return the missing data percentage\n",
        "print(missing_data )\n"
      ]
    },
    {
      "cell_type": "code",
      "execution_count": 5,
      "metadata": {
        "colab": {
          "base_uri": "https://localhost:8080/"
        },
        "id": "ktXXiMyG34tU",
        "outputId": "c583c12b-f5f1-4a3d-abdb-1a1e30a97934"
      },
      "outputs": [
        {
          "output_type": "stream",
          "name": "stdout",
          "text": [
            "male                  2\n",
            "age                  39\n",
            "education             4\n",
            "currentSmoker         2\n",
            "cigsPerDay           33\n",
            "BPMeds                2\n",
            "prevalentStroke       2\n",
            "prevalentHyp          2\n",
            "diabetes              2\n",
            "totChol             248\n",
            "sysBP               234\n",
            "diaBP               146\n",
            "BMI                1364\n",
            "heartRate            73\n",
            "glucose             143\n",
            "TenYearCHD            2\n",
            "dtype: int64\n"
          ]
        }
      ],
      "source": [
        "unique_values = df.nunique()\n",
        "\n",
        "print(unique_values)"
      ]
    },
    {
      "cell_type": "markdown",
      "metadata": {
        "id": "Z1Ugleuk4Rdf"
      },
      "source": [
        "TenYearCHD\n",
        "\n",
        "It is a binary column, where 0 represents \"will not develop CHD in ten years\" and 1 represents \"will develop CHD in ten years"
      ]
    },
    {
      "cell_type": "code",
      "execution_count": 6,
      "metadata": {
        "colab": {
          "base_uri": "https://localhost:8080/"
        },
        "id": "uNvjAeJB4hAl",
        "outputId": "803ab085-2271-4d3c-c902-27f2add2ca8e"
      },
      "outputs": [
        {
          "output_type": "stream",
          "name": "stdout",
          "text": [
            "0    84.811321\n",
            "1    15.188679\n",
            "Name: TenYearCHD, dtype: float64\n"
          ]
        }
      ],
      "source": [
        "unique_value_percentages = df['TenYearCHD'].value_counts(normalize=True) * 100\n",
        "\n",
        "print(unique_value_percentages)"
      ]
    },
    {
      "cell_type": "markdown",
      "metadata": {
        "id": "_Ic3swOl43DC"
      },
      "source": [
        "The target column is unbalanced"
      ]
    },
    {
      "cell_type": "code",
      "execution_count": 7,
      "metadata": {
        "colab": {
          "base_uri": "https://localhost:8080/"
        },
        "id": "6I3C34_j80zZ",
        "outputId": "fad337b3-d3df-4265-c562-9f46152bc693"
      },
      "outputs": [
        {
          "output_type": "stream",
          "name": "stdout",
          "text": [
            "Skewness of Columns:\n",
            "age           0.228867\n",
            "education     0.688730\n",
            "cigsPerDay    1.247052\n",
            "totChol       0.871881\n",
            "sysBP         1.145285\n",
            "diaBP         0.713250\n",
            "BMI           0.982183\n",
            "heartRate     0.644372\n",
            "glucose       6.214948\n",
            "dtype: float64\n"
          ]
        }
      ],
      "source": [
        "# Check for skewness\n",
        "numerical_columns = df.select_dtypes(include=['int64', 'float64']).columns\n",
        "non_binary_numerical_columns = [column for column in numerical_columns if df[column].nunique() > 2]\n",
        "\n",
        "columns_to_check = non_binary_numerical_columns\n",
        "# Calculate skewness for each column\n",
        "skewness = df[columns_to_check].skew()\n",
        "\n",
        "# Print the skewness values\n",
        "print(\"Skewness of Columns:\")\n",
        "print(skewness)"
      ]
    },
    {
      "cell_type": "markdown",
      "metadata": {
        "id": "DbsusdDh5lSf"
      },
      "source": [
        "**age**: 0.228867 (Slightly positively skewed)\n",
        "\n",
        "**education**: 0.688730 (Positively skewed)\n",
        "\n",
        "**cigsPerDay**: 1.247052 (Positively skewed)\n",
        "\n",
        "**totChol**: 0.871881 (Positively skewed)\n",
        "\n",
        "**sysBP**: 1.145285 (Positively skewed)\n",
        "\n",
        "**diaBP**: 0.713250 (Positively skewed)\n",
        "\n",
        "**BMI**: 0.982183 (Positively skewed)\n",
        "\n",
        "**heartRate**: 0.644372 (Positively skewed)\n",
        "\n",
        "**glucose**: 6.214948 (Strongly positively skewed)"
      ]
    },
    {
      "cell_type": "markdown",
      "metadata": {
        "id": "TDu6cIJK9Y1u"
      },
      "source": [
        "Handling the missing value"
      ]
    },
    {
      "cell_type": "code",
      "execution_count": 8,
      "metadata": {
        "colab": {
          "base_uri": "https://localhost:8080/"
        },
        "id": "C_2EAhGB9XY7",
        "outputId": "076c9951-95a9-4bd5-e84f-dcb3e1619a80"
      },
      "outputs": [
        {
          "output_type": "stream",
          "name": "stdout",
          "text": [
            "male               0.0\n",
            "age                0.0\n",
            "education          0.0\n",
            "currentSmoker      0.0\n",
            "cigsPerDay         0.0\n",
            "BPMeds             0.0\n",
            "prevalentStroke    0.0\n",
            "prevalentHyp       0.0\n",
            "diabetes           0.0\n",
            "totChol            0.0\n",
            "sysBP              0.0\n",
            "diaBP              0.0\n",
            "BMI                0.0\n",
            "heartRate          0.0\n",
            "glucose            0.0\n",
            "TenYearCHD         0.0\n",
            "dtype: float64\n"
          ]
        }
      ],
      "source": [
        "# Impute numerical columns with mean or median\n",
        "df['cigsPerDay'].fillna(df['cigsPerDay'].median(), inplace=True)\n",
        "df['totChol'].fillna(df['totChol'].mean(), inplace=True)\n",
        "df['BMI'].fillna(df['BMI'].mean(), inplace=True)\n",
        "df['heartRate'].fillna(df['heartRate'].median(), inplace=True)\n",
        "df['education'].fillna(df['heartRate'].median(), inplace=True)\n",
        "df['BPMeds'].fillna(df['heartRate'].median(), inplace=True)\n",
        "\n",
        "\n",
        "# For 'glucose' with higher missing percentage, consider more advanced imputation\n",
        "# For example, using K-nearest neighbors imputation:\n",
        "from sklearn.impute import KNNImputer\n",
        "imputer = KNNImputer(n_neighbors=5)\n",
        "df['glucose'] = imputer.fit_transform(df[['glucose']])\n",
        "\n",
        "# Check if all missing values are filled\n",
        "missing_percentage = df.isnull().mean() * 100\n",
        "print(missing_percentage)"
      ]
    },
    {
      "cell_type": "code",
      "execution_count": 9,
      "metadata": {
        "colab": {
          "base_uri": "https://localhost:8080/"
        },
        "id": "0IWGABiN6Hmo",
        "outputId": "3f644416-3561-4d46-e82e-114a25722326"
      },
      "outputs": [
        {
          "output_type": "stream",
          "name": "stdout",
          "text": [
            "A person with male equal to 1 has a probability of 18.85% to get a TenYearCHD\n",
            "A person with male equal to 0 has a probability of 12.44% to get a TenYearCHD\n",
            "\n",
            "A person with currentSmoker equal to 0 has a probability of 14.5% to get a TenYearCHD\n",
            "A person with currentSmoker equal to 1 has a probability of 15.89% to get a TenYearCHD\n",
            "\n",
            "A person with prevalentStroke equal to 0 has a probability of 15.02% to get a TenYearCHD\n",
            "A person with prevalentStroke equal to 1 has a probability of 44.0% to get a TenYearCHD\n",
            "\n",
            "A person with prevalentHyp equal to 0 has a probability of 10.91% to get a TenYearCHD\n",
            "A person with prevalentHyp equal to 1 has a probability of 24.68% to get a TenYearCHD\n",
            "\n",
            "A person with diabetes equal to 0 has a probability of 14.62% to get a TenYearCHD\n",
            "A person with diabetes equal to 1 has a probability of 36.7% to get a TenYearCHD\n",
            "\n"
          ]
        }
      ],
      "source": [
        "binary_numerical_columns = [column for column in numerical_columns if df[column].nunique() < 3 and column != \"TenYearCHD\"]\n",
        "\n",
        "\n",
        "for col in binary_numerical_columns:\n",
        "    for unique_value in df[col].unique():\n",
        "        if unique_value is not None:  # Exclude None values from the analysis\n",
        "            prob = round(df[df[col] == unique_value][\"TenYearCHD\"].mean() * 100, 2)\n",
        "            print(f'A person with {col} equal to {unique_value} has a probability of {prob}% to get a TenYearCHD')\n",
        "    print()  # Print a newline to separate the output for different columns\n"
      ]
    },
    {
      "cell_type": "code",
      "execution_count": 10,
      "metadata": {
        "colab": {
          "base_uri": "https://localhost:8080/",
          "height": 206
        },
        "id": "Nhf-c3WS7Vsd",
        "outputId": "62f55ecc-f27a-4bb1-b07d-e4c9fb9303cb"
      },
      "outputs": [
        {
          "output_type": "execute_result",
          "data": {
            "text/plain": [
              "                 mutual_info_score\n",
              "prevalentHyp              0.014776\n",
              "male                      0.003866\n",
              "diabetes                  0.003685\n",
              "prevalentStroke           0.001400\n",
              "currentSmoker             0.000189"
            ],
            "text/html": [
              "\n",
              "  <div id=\"df-ef94167e-f679-4608-93ea-31fc1be19540\" class=\"colab-df-container\">\n",
              "    <div>\n",
              "<style scoped>\n",
              "    .dataframe tbody tr th:only-of-type {\n",
              "        vertical-align: middle;\n",
              "    }\n",
              "\n",
              "    .dataframe tbody tr th {\n",
              "        vertical-align: top;\n",
              "    }\n",
              "\n",
              "    .dataframe thead th {\n",
              "        text-align: right;\n",
              "    }\n",
              "</style>\n",
              "<table border=\"1\" class=\"dataframe\">\n",
              "  <thead>\n",
              "    <tr style=\"text-align: right;\">\n",
              "      <th></th>\n",
              "      <th>mutual_info_score</th>\n",
              "    </tr>\n",
              "  </thead>\n",
              "  <tbody>\n",
              "    <tr>\n",
              "      <th>prevalentHyp</th>\n",
              "      <td>0.014776</td>\n",
              "    </tr>\n",
              "    <tr>\n",
              "      <th>male</th>\n",
              "      <td>0.003866</td>\n",
              "    </tr>\n",
              "    <tr>\n",
              "      <th>diabetes</th>\n",
              "      <td>0.003685</td>\n",
              "    </tr>\n",
              "    <tr>\n",
              "      <th>prevalentStroke</th>\n",
              "      <td>0.001400</td>\n",
              "    </tr>\n",
              "    <tr>\n",
              "      <th>currentSmoker</th>\n",
              "      <td>0.000189</td>\n",
              "    </tr>\n",
              "  </tbody>\n",
              "</table>\n",
              "</div>\n",
              "    <div class=\"colab-df-buttons\">\n",
              "\n",
              "  <div class=\"colab-df-container\">\n",
              "    <button class=\"colab-df-convert\" onclick=\"convertToInteractive('df-ef94167e-f679-4608-93ea-31fc1be19540')\"\n",
              "            title=\"Convert this dataframe to an interactive table.\"\n",
              "            style=\"display:none;\">\n",
              "\n",
              "  <svg xmlns=\"http://www.w3.org/2000/svg\" height=\"24px\" viewBox=\"0 -960 960 960\">\n",
              "    <path d=\"M120-120v-720h720v720H120Zm60-500h600v-160H180v160Zm220 220h160v-160H400v160Zm0 220h160v-160H400v160ZM180-400h160v-160H180v160Zm440 0h160v-160H620v160ZM180-180h160v-160H180v160Zm440 0h160v-160H620v160Z\"/>\n",
              "  </svg>\n",
              "    </button>\n",
              "\n",
              "  <style>\n",
              "    .colab-df-container {\n",
              "      display:flex;\n",
              "      gap: 12px;\n",
              "    }\n",
              "\n",
              "    .colab-df-convert {\n",
              "      background-color: #E8F0FE;\n",
              "      border: none;\n",
              "      border-radius: 50%;\n",
              "      cursor: pointer;\n",
              "      display: none;\n",
              "      fill: #1967D2;\n",
              "      height: 32px;\n",
              "      padding: 0 0 0 0;\n",
              "      width: 32px;\n",
              "    }\n",
              "\n",
              "    .colab-df-convert:hover {\n",
              "      background-color: #E2EBFA;\n",
              "      box-shadow: 0px 1px 2px rgba(60, 64, 67, 0.3), 0px 1px 3px 1px rgba(60, 64, 67, 0.15);\n",
              "      fill: #174EA6;\n",
              "    }\n",
              "\n",
              "    .colab-df-buttons div {\n",
              "      margin-bottom: 4px;\n",
              "    }\n",
              "\n",
              "    [theme=dark] .colab-df-convert {\n",
              "      background-color: #3B4455;\n",
              "      fill: #D2E3FC;\n",
              "    }\n",
              "\n",
              "    [theme=dark] .colab-df-convert:hover {\n",
              "      background-color: #434B5C;\n",
              "      box-shadow: 0px 1px 3px 1px rgba(0, 0, 0, 0.15);\n",
              "      filter: drop-shadow(0px 1px 2px rgba(0, 0, 0, 0.3));\n",
              "      fill: #FFFFFF;\n",
              "    }\n",
              "  </style>\n",
              "\n",
              "    <script>\n",
              "      const buttonEl =\n",
              "        document.querySelector('#df-ef94167e-f679-4608-93ea-31fc1be19540 button.colab-df-convert');\n",
              "      buttonEl.style.display =\n",
              "        google.colab.kernel.accessAllowed ? 'block' : 'none';\n",
              "\n",
              "      async function convertToInteractive(key) {\n",
              "        const element = document.querySelector('#df-ef94167e-f679-4608-93ea-31fc1be19540');\n",
              "        const dataTable =\n",
              "          await google.colab.kernel.invokeFunction('convertToInteractive',\n",
              "                                                    [key], {});\n",
              "        if (!dataTable) return;\n",
              "\n",
              "        const docLinkHtml = 'Like what you see? Visit the ' +\n",
              "          '<a target=\"_blank\" href=https://colab.research.google.com/notebooks/data_table.ipynb>data table notebook</a>'\n",
              "          + ' to learn more about interactive tables.';\n",
              "        element.innerHTML = '';\n",
              "        dataTable['output_type'] = 'display_data';\n",
              "        await google.colab.output.renderOutput(dataTable, element);\n",
              "        const docLink = document.createElement('div');\n",
              "        docLink.innerHTML = docLinkHtml;\n",
              "        element.appendChild(docLink);\n",
              "      }\n",
              "    </script>\n",
              "  </div>\n",
              "\n",
              "\n",
              "<div id=\"df-9b9e9c32-91ce-4f24-a04e-b35ee85d0bbb\">\n",
              "  <button class=\"colab-df-quickchart\" onclick=\"quickchart('df-9b9e9c32-91ce-4f24-a04e-b35ee85d0bbb')\"\n",
              "            title=\"Suggest charts.\"\n",
              "            style=\"display:none;\">\n",
              "\n",
              "<svg xmlns=\"http://www.w3.org/2000/svg\" height=\"24px\"viewBox=\"0 0 24 24\"\n",
              "     width=\"24px\">\n",
              "    <g>\n",
              "        <path d=\"M19 3H5c-1.1 0-2 .9-2 2v14c0 1.1.9 2 2 2h14c1.1 0 2-.9 2-2V5c0-1.1-.9-2-2-2zM9 17H7v-7h2v7zm4 0h-2V7h2v10zm4 0h-2v-4h2v4z\"/>\n",
              "    </g>\n",
              "</svg>\n",
              "  </button>\n",
              "\n",
              "<style>\n",
              "  .colab-df-quickchart {\n",
              "      --bg-color: #E8F0FE;\n",
              "      --fill-color: #1967D2;\n",
              "      --hover-bg-color: #E2EBFA;\n",
              "      --hover-fill-color: #174EA6;\n",
              "      --disabled-fill-color: #AAA;\n",
              "      --disabled-bg-color: #DDD;\n",
              "  }\n",
              "\n",
              "  [theme=dark] .colab-df-quickchart {\n",
              "      --bg-color: #3B4455;\n",
              "      --fill-color: #D2E3FC;\n",
              "      --hover-bg-color: #434B5C;\n",
              "      --hover-fill-color: #FFFFFF;\n",
              "      --disabled-bg-color: #3B4455;\n",
              "      --disabled-fill-color: #666;\n",
              "  }\n",
              "\n",
              "  .colab-df-quickchart {\n",
              "    background-color: var(--bg-color);\n",
              "    border: none;\n",
              "    border-radius: 50%;\n",
              "    cursor: pointer;\n",
              "    display: none;\n",
              "    fill: var(--fill-color);\n",
              "    height: 32px;\n",
              "    padding: 0;\n",
              "    width: 32px;\n",
              "  }\n",
              "\n",
              "  .colab-df-quickchart:hover {\n",
              "    background-color: var(--hover-bg-color);\n",
              "    box-shadow: 0 1px 2px rgba(60, 64, 67, 0.3), 0 1px 3px 1px rgba(60, 64, 67, 0.15);\n",
              "    fill: var(--button-hover-fill-color);\n",
              "  }\n",
              "\n",
              "  .colab-df-quickchart-complete:disabled,\n",
              "  .colab-df-quickchart-complete:disabled:hover {\n",
              "    background-color: var(--disabled-bg-color);\n",
              "    fill: var(--disabled-fill-color);\n",
              "    box-shadow: none;\n",
              "  }\n",
              "\n",
              "  .colab-df-spinner {\n",
              "    border: 2px solid var(--fill-color);\n",
              "    border-color: transparent;\n",
              "    border-bottom-color: var(--fill-color);\n",
              "    animation:\n",
              "      spin 1s steps(1) infinite;\n",
              "  }\n",
              "\n",
              "  @keyframes spin {\n",
              "    0% {\n",
              "      border-color: transparent;\n",
              "      border-bottom-color: var(--fill-color);\n",
              "      border-left-color: var(--fill-color);\n",
              "    }\n",
              "    20% {\n",
              "      border-color: transparent;\n",
              "      border-left-color: var(--fill-color);\n",
              "      border-top-color: var(--fill-color);\n",
              "    }\n",
              "    30% {\n",
              "      border-color: transparent;\n",
              "      border-left-color: var(--fill-color);\n",
              "      border-top-color: var(--fill-color);\n",
              "      border-right-color: var(--fill-color);\n",
              "    }\n",
              "    40% {\n",
              "      border-color: transparent;\n",
              "      border-right-color: var(--fill-color);\n",
              "      border-top-color: var(--fill-color);\n",
              "    }\n",
              "    60% {\n",
              "      border-color: transparent;\n",
              "      border-right-color: var(--fill-color);\n",
              "    }\n",
              "    80% {\n",
              "      border-color: transparent;\n",
              "      border-right-color: var(--fill-color);\n",
              "      border-bottom-color: var(--fill-color);\n",
              "    }\n",
              "    90% {\n",
              "      border-color: transparent;\n",
              "      border-bottom-color: var(--fill-color);\n",
              "    }\n",
              "  }\n",
              "</style>\n",
              "\n",
              "  <script>\n",
              "    async function quickchart(key) {\n",
              "      const quickchartButtonEl =\n",
              "        document.querySelector('#' + key + ' button');\n",
              "      quickchartButtonEl.disabled = true;  // To prevent multiple clicks.\n",
              "      quickchartButtonEl.classList.add('colab-df-spinner');\n",
              "      try {\n",
              "        const charts = await google.colab.kernel.invokeFunction(\n",
              "            'suggestCharts', [key], {});\n",
              "      } catch (error) {\n",
              "        console.error('Error during call to suggestCharts:', error);\n",
              "      }\n",
              "      quickchartButtonEl.classList.remove('colab-df-spinner');\n",
              "      quickchartButtonEl.classList.add('colab-df-quickchart-complete');\n",
              "    }\n",
              "    (() => {\n",
              "      let quickchartButtonEl =\n",
              "        document.querySelector('#df-9b9e9c32-91ce-4f24-a04e-b35ee85d0bbb button');\n",
              "      quickchartButtonEl.style.display =\n",
              "        google.colab.kernel.accessAllowed ? 'block' : 'none';\n",
              "    })();\n",
              "  </script>\n",
              "</div>\n",
              "    </div>\n",
              "  </div>\n"
            ]
          },
          "metadata": {},
          "execution_count": 10
        }
      ],
      "source": [
        "from sklearn.metrics import mutual_info_score\n",
        "\n",
        "def cat_mut_inf(series):\n",
        "    return mutual_info_score(series, df['TenYearCHD'])\n",
        "\n",
        "df_binary = df[binary_numerical_columns].apply(cat_mut_inf)\n",
        "df_binary = df_binary.sort_values(ascending=False).to_frame(name='mutual_info_score')\n",
        "df_binary"
      ]
    },
    {
      "cell_type": "markdown",
      "metadata": {
        "id": "XICNY7pw9-Ii"
      },
      "source": [
        "all of the predictor variables (male, diabetes, prevalentStroke, and currentSmoker) have relatively low mutual information scores with the target variable (TenYearCHD). This suggests that there may not be strong statistical dependencies or relationships between these variables and the likelihood of developing coronary heart disease (CHD) in the next ten years"
      ]
    },
    {
      "cell_type": "code",
      "execution_count": 11,
      "metadata": {
        "colab": {
          "base_uri": "https://localhost:8080/"
        },
        "id": "mwFZjce4-BNJ",
        "outputId": "0c45253b-9a10-45cf-acd6-def3de1fdc9e"
      },
      "outputs": [
        {
          "output_type": "stream",
          "name": "stdout",
          "text": [
            "male               0.088374\n",
            "age                0.225408\n",
            "education         -0.004517\n",
            "currentSmoker      0.019448\n",
            "cigsPerDay         0.058729\n",
            "BPMeds             0.019200\n",
            "prevalentStroke    0.061823\n",
            "prevalentHyp       0.177458\n",
            "diabetes           0.097344\n",
            "totChol            0.081807\n",
            "sysBP              0.216374\n",
            "diaBP              0.145112\n",
            "BMI                0.074788\n",
            "heartRate          0.022851\n",
            "glucose            0.120451\n",
            "TenYearCHD         1.000000\n",
            "Name: TenYearCHD, dtype: float64\n"
          ]
        }
      ],
      "source": [
        "non_binary_numerical_columns = [col for col in numerical_columns]\n",
        "\n",
        "# Calculate the correlation matrix\n",
        "correlation_matrix = df[non_binary_numerical_columns].corr()\n",
        "\n",
        "# Get the correlation values for the target variable (replace 'target_variable' with the name of your target column)\n",
        "target_correlations = correlation_matrix['TenYearCHD']\n",
        "\n",
        "# Print the correlations between the target variable and all other variables\n",
        "print(target_correlations)"
      ]
    },
    {
      "cell_type": "code",
      "execution_count": 12,
      "metadata": {
        "colab": {
          "base_uri": "https://localhost:8080/"
        },
        "id": "p8V9TD1eAgxa",
        "outputId": "ad8c45bc-ca22-40a9-b321-681e8dd06f51"
      },
      "outputs": [
        {
          "output_type": "stream",
          "name": "stdout",
          "text": [
            "                male        age  education  currentSmoker  cigsPerDay  \\\n",
            "TenYearCHD                                                              \n",
            "0           0.410734  48.762514   3.809511       0.489989    8.648498   \n",
            "1           0.532609  54.145963   3.666149       0.517081   10.596273   \n",
            "\n",
            "              BPMeds  prevalentStroke  prevalentHyp  diabetes     totChol  \\\n",
            "TenYearCHD                                                                  \n",
            "0           0.899055         0.003893      0.275862  0.019188  235.165095   \n",
            "1           1.344720         0.017081      0.504658  0.062112  245.267540   \n",
            "\n",
            "                 sysBP      diaBP        BMI  heartRate    glucose  \n",
            "TenYearCHD                                                          \n",
            "0           130.337319  82.166435  25.671982  75.762514  80.799976  \n",
            "1           143.618789  86.981366  26.520106  76.527950  88.461464  \n"
          ]
        }
      ],
      "source": [
        "# Define the list of numerical columns (excluding 'id' and 'stroke')\n",
        "selected_columns = [col for col in numerical_columns if col not in ['TenYearCHD']]\n",
        "\n",
        "# Calculate the mean values of the selected columns, grouped by the 'stroke' column\n",
        "mean_values_by_group = df.groupby('TenYearCHD')[selected_columns].mean()\n",
        "\n",
        "# Display the result\n",
        "print(mean_values_by_group)"
      ]
    },
    {
      "cell_type": "code",
      "source": [
        "df = df.drop(columns=['education'])\n"
      ],
      "metadata": {
        "id": "RSbat_Uz6g43"
      },
      "execution_count": 13,
      "outputs": []
    },
    {
      "cell_type": "markdown",
      "metadata": {
        "id": "4C_CEyuuB3Sv"
      },
      "source": [
        "The analysis was conducted to compare the average values of various features between two groups of individuals: those who developed coronary heart disease (CHD) in the next ten years (TenYearCHD = 1) and those who did not (TenYearCHD = 0). The following findings were observed:\n",
        "\n",
        "For individuals who did not develop CHD (TenYearCHD = 0):\n",
        "\n",
        "Male: 41.07%\n",
        "\n",
        "Age: 48.76 years\n",
        "\n",
        "Education: 3.81 years\n",
        "\n",
        "Current Smoker: 48.99%\n",
        "\n",
        "Average Cigarettes Per Day: 8.65\n",
        "\n",
        "Taking Blood Pressure Medication (BPMeds): 0.90%\n",
        "\n",
        "Prevalent Stroke: 0.39%\n",
        "\n",
        "Prevalent Hypertension (prevalentHyp): 27.59%\n",
        "\n",
        "Diabetes: 1.92%\n",
        "\n",
        "Total Cholesterol (totChol): 235.17 mg/dL\n",
        "\n",
        "Systolic Blood Pressure (sysBP): 130.34 mm Hg\n",
        "\n",
        "Diastolic Blood Pressure (diaBP): 82.17 mm Hg\n",
        "\n",
        "Body Mass Index (BMI): 25.67\n",
        "\n",
        "Heart Rate: 75.76 beats per minute\n",
        "\n",
        "Glucose Level: 80.80 mg/dL\n",
        "\n",
        "\n",
        "For individuals who did develop CHD (TenYearCHD = 1):\n",
        "\n",
        "Male: 53.26%\n",
        "\n",
        "Age: 54.15 years\n",
        "\n",
        "Education: 3.67 years\n",
        "\n",
        "Current Smoker: 51.71%\n",
        "\n",
        "Average Cigarettes Per Day: 10.60\n",
        "\n",
        "Taking Blood Pressure Medication (BPMeds): 1.34%\n",
        "\n",
        "Prevalent Stroke: 1.71%\n",
        "\n",
        "Prevalent Hypertension (prevalentHyp): 50.47%\n",
        "\n",
        "Diabetes: 6.21%\n",
        "\n",
        "Total Cholesterol (totChol): 245.27 mg/dL\n",
        "Systolic Blood Pressure (sysBP): 143.62 mm Hg\n",
        "Diastolic Blood Pressure (diaBP): 86.98 mm Hg\n",
        "Body Mass Index (BMI): 26.52\n",
        "Heart Rate: 76.53 beats per minute\n",
        "Glucose Level: 88.46 mg/dL\n"
      ]
    },
    {
      "cell_type": "code",
      "execution_count": 14,
      "metadata": {
        "colab": {
          "base_uri": "https://localhost:8080/",
          "height": 1000
        },
        "id": "zlcetzb0CGBS",
        "outputId": "a017d7e5-a2d3-4cc0-b418-12305edee04b"
      },
      "outputs": [
        {
          "output_type": "stream",
          "name": "stdout",
          "text": [
            "                     male       age  currentSmoker  cigsPerDay    BPMeds  \\\n",
            "male             1.000000 -0.029014       0.197026    0.314849 -0.034287   \n",
            "age             -0.029014  1.000000      -0.213662   -0.192017  0.053782   \n",
            "currentSmoker    0.197026 -0.213662       1.000000    0.760326 -0.014514   \n",
            "cigsPerDay       0.314849 -0.192017       0.760326    1.000000 -0.008226   \n",
            "BPMeds          -0.034287  0.053782      -0.014514   -0.008226  1.000000   \n",
            "prevalentStroke -0.004550  0.057679      -0.032980   -0.032248  0.021384   \n",
            "prevalentHyp     0.005853  0.306799      -0.103710   -0.065541  0.030637   \n",
            "diabetes         0.015693  0.101314      -0.044285   -0.036173  0.009592   \n",
            "totChol         -0.070064  0.260691      -0.046211   -0.026975  0.010964   \n",
            "sysBP           -0.035879  0.394053      -0.130281   -0.088393  0.030453   \n",
            "diaBP            0.058199  0.205586      -0.107933   -0.056768  0.008866   \n",
            "BMI              0.081705  0.135578      -0.167483   -0.092768 -0.003823   \n",
            "heartRate       -0.116933 -0.012868       0.062661    0.074258  0.001971   \n",
            "glucose          0.005718  0.116951      -0.054062   -0.056583  0.003021   \n",
            "\n",
            "                 prevalentStroke  prevalentHyp  diabetes   totChol     sysBP  \\\n",
            "male                   -0.004550      0.005853  0.015693 -0.070064 -0.035879   \n",
            "age                     0.057679      0.306799  0.101314  0.260691  0.394053   \n",
            "currentSmoker          -0.032980     -0.103710 -0.044285 -0.046211 -0.130281   \n",
            "cigsPerDay             -0.032248     -0.065541 -0.036173 -0.026975 -0.088393   \n",
            "BPMeds                  0.021384      0.030637  0.009592  0.010964  0.030453   \n",
            "prevalentStroke         1.000000      0.074791  0.006955  0.000105  0.057000   \n",
            "prevalentHyp            0.074791      1.000000  0.077752  0.162683  0.696656   \n",
            "diabetes                0.006955      0.077752  1.000000  0.040161  0.111265   \n",
            "totChol                 0.000105      0.162683  0.040161  1.000000  0.207436   \n",
            "sysBP                   0.057000      0.696656  0.111265  0.207436  1.000000   \n",
            "diaBP                   0.045153      0.615840  0.050260  0.163423  0.783952   \n",
            "BMI                     0.024856      0.300599  0.086282  0.115013  0.325172   \n",
            "heartRate              -0.017672      0.146751  0.048989  0.090685  0.182052   \n",
            "glucose                 0.018065      0.082757  0.605709  0.044710  0.134561   \n",
            "\n",
            "                    diaBP       BMI  heartRate   glucose  \n",
            "male             0.058199  0.081705  -0.116933  0.005718  \n",
            "age              0.205586  0.135578  -0.012868  0.116951  \n",
            "currentSmoker   -0.107933 -0.167483   0.062661 -0.054062  \n",
            "cigsPerDay      -0.056768 -0.092768   0.074258 -0.056583  \n",
            "BPMeds           0.008866 -0.003823   0.001971  0.003021  \n",
            "prevalentStroke  0.045153  0.024856  -0.017672  0.018065  \n",
            "prevalentHyp     0.615840  0.300599   0.146751  0.082757  \n",
            "diabetes         0.050260  0.086282   0.048989  0.605709  \n",
            "totChol          0.163423  0.115013   0.090685  0.044710  \n",
            "sysBP            0.783952  0.325172   0.182052  0.134561  \n",
            "diaBP            1.000000  0.376317   0.181023  0.058499  \n",
            "BMI              0.376317  1.000000   0.067303  0.082123  \n",
            "heartRate        0.181023  0.067303   1.000000  0.089379  \n",
            "glucose          0.058499  0.082123   0.089379  1.000000  \n"
          ]
        },
        {
          "output_type": "display_data",
          "data": {
            "text/plain": [
              "<Figure size 1000x800 with 2 Axes>"
            ],
            "image/png": "[encoded data removed]"
          },
          "metadata": {}
        }
      ],
      "source": [
        "import seaborn as sns\n",
        "import matplotlib.pyplot as plt\n",
        "\n",
        "# Get the list of numerical columns excluding 'id' and 'stroke'\n",
        "numerical_columns = df.select_dtypes(include=['int64', 'float64']).columns.tolist()\n",
        "selected_columns = [col for col in numerical_columns if col not in ['TenYearCHD']]\n",
        "\n",
        "# Calculate the correlation matrix for the selected columns\n",
        "correlation_matrix = df[selected_columns].corr()\n",
        "\n",
        "# Display the correlation matrix\n",
        "print(correlation_matrix)\n",
        "\n",
        "# Plot the correlation matrix as a heatmap\n",
        "plt.figure(figsize=(10, 8))\n",
        "sns.heatmap(correlation_matrix, annot=True, cmap='coolwarm', fmt=\".2f\")\n",
        "plt.title('Correlation Matrix of Numerical Columns')\n",
        "plt.show()\n"
      ]
    },
    {
      "cell_type": "markdown",
      "source": [
        "There is a **moderate positive correlation** (around 0.76) between 'currentSmoker' and 'cigsPerDay,' which is expected because people who smoke more tend to smoke more cigarettes per day.\n",
        "\n",
        "'sysBP' and 'diaBP' have a **strong positive correlation **(around 0.78). This is not surprising since systolic blood pressure ('sysBP') and diastolic blood pressure ('diaBP') are typically related.\n",
        "\n",
        "There is a **moderate positive correlation** (around 0.61) between 'prevalentHyp' (prevalent hypertension) and 'diaBP,' which is expected since prevalent hypertension can be associated with higher diastolic blood pressure.\n",
        "\n",
        "'diabetes' has a **moderate positive correlation** (around 0.61) with 'glucose,' which is expected since diabetes is related to high blood glucose levels."
      ],
      "metadata": {
        "id": "YSb3ZI0v60rf"
      }
    },
    {
      "cell_type": "code",
      "source": [
        "from statsmodels.stats.outliers_influence import variance_inflation_factor\n",
        "\n",
        "# Create a DataFrame for VIF analysis (excluding the target variable)\n",
        "vif_data = df\n",
        "# Calculate VIF for each feature\n",
        "vif = pd.DataFrame()\n",
        "vif[\"Features\"] = vif_data.columns\n",
        "vif[\"VIF\"] = [variance_inflation_factor(vif_data.values, i) for i in range(vif_data.shape[1])]\n",
        "\n",
        "# Display the VIF values\n",
        "print(vif)\n"
      ],
      "metadata": {
        "colab": {
          "base_uri": "https://localhost:8080/"
        },
        "id": "0IRA-ajb-C7e",
        "outputId": "3b92ed8f-3e9d-4d79-c3f2-d0ced4576f27"
      },
      "execution_count": 15,
      "outputs": [
        {
          "output_type": "stream",
          "name": "stdout",
          "text": [
            "           Features         VIF\n",
            "0              male    2.088880\n",
            "1               age   41.451669\n",
            "2     currentSmoker    4.735856\n",
            "3        cigsPerDay    4.038548\n",
            "4            BPMeds    1.018778\n",
            "5   prevalentStroke    1.017018\n",
            "6      prevalentHyp    2.318526\n",
            "7          diabetes    1.561292\n",
            "8           totChol   31.205442\n",
            "9             sysBP  137.137254\n",
            "10            diaBP  133.387456\n",
            "11              BMI   45.106940\n",
            "12        heartRate   38.574563\n",
            "13          glucose   20.941268\n",
            "14       TenYearCHD    1.285515\n"
          ]
        }
      ]
    },
    {
      "cell_type": "markdown",
      "source": [
        "**age, totChol, sysBP, diaBP, BMI, heartRate, and glucose** all have relatively high VIF values, suggesting strong multicollinearity among these features.\n",
        "\n",
        "A VIF of 41.45 for age indicates that its variance is inflated by a factor of 41.45 due to multicollinearity.\n",
        "\n",
        "Similarly, **sysBP and diaBP** have VIF values of over 130, indicating very high multicollinearity.\n",
        "\n",
        "On the other hand, features like BPMeds, prevalentStroke, diabetes, and have low VIF values, indicating less multicollinearity with other features."
      ],
      "metadata": {
        "id": "XgM3OqwE-RCS"
      }
    },
    {
      "cell_type": "markdown",
      "metadata": {
        "id": "o1DcHwEvSBJC"
      },
      "source": [
        "##Model Selection"
      ]
    },
    {
      "cell_type": "markdown",
      "metadata": {
        "id": "rNX0Un1FSJQV"
      },
      "source": [
        "We will go step by step. We will load the data Then first we decide our evaluation method Then we will make baseline algorithm to give us lower limit Then we define our models We make our pipeline Analyze the models by evaluation results and boxplot. Decide which model perform the best in the evaluated models. We try to improve oour models."
      ]
    },
    {
      "cell_type": "code",
      "execution_count": 19,
      "metadata": {
        "id": "6T8cHgGySKxa"
      },
      "outputs": [],
      "source": [
        "y= df['TenYearCHD']\n",
        "X = df.drop('TenYearCHD', axis=1)\n",
        "\n",
        "# Define your column names here\n",
        "categorical = ['male', 'currentSmoker', 'BPMeds', 'prevalentStroke', 'prevalentHyp', 'diabetes']\n",
        "numerical_columns = ['age', 'cigsPerDay', 'totChol', 'sysBP', 'diaBP', 'BMI', 'heartRate', 'glucose']"
      ]
    },
    {
      "cell_type": "code",
      "execution_count": 20,
      "metadata": {
        "id": "Oo1oNvbaSgkC"
      },
      "outputs": [],
      "source": [
        "def evaluate_model(X, y, model):\n",
        "    from sklearn.model_selection import RepeatedStratifiedKFold, cross_val_score\n",
        "\n",
        "    cv = RepeatedStratifiedKFold(n_splits=10, n_repeats=3, random_state=42)\n",
        "    scores = cross_val_score(model, X, y, scoring='roc_auc', cv=cv, n_jobs=-1)\n",
        "    return scores"
      ]
    },
    {
      "cell_type": "code",
      "execution_count": 21,
      "metadata": {
        "colab": {
          "base_uri": "https://localhost:8080/"
        },
        "id": "JanBdb77ShZ9",
        "outputId": "fb4abfe4-86d2-40d9-cf71-cdde7134892e"
      },
      "outputs": [
        {
          "output_type": "stream",
          "name": "stdout",
          "text": [
            "Mean roc_auc: 0.500 (0.000)\n"
          ]
        }
      ],
      "source": [
        "#Baseline Model\n",
        "\n",
        "from sklearn.compose import ColumnTransformer\n",
        "from sklearn.impute import SimpleImputer\n",
        "from sklearn.preprocessing import OneHotEncoder, PowerTransformer\n",
        "from sklearn.dummy import DummyClassifier\n",
        "from sklearn.pipeline import Pipeline\n",
        "from sklearn.model_selection import RepeatedStratifiedKFold, cross_val_score\n",
        "\n",
        "\n",
        "\n",
        "def baseline_model(X, y, model):\n",
        "    transformer = ColumnTransformer(transformers=[\n",
        "        ('imp', SimpleImputer(strategy='median'), numerical_columns),\n",
        "        ('o', OneHotEncoder(), categorical)\n",
        "    ])\n",
        "    pipeline = Pipeline(steps=[\n",
        "        ('t', transformer),\n",
        "        ('p', PowerTransformer(method='yeo-johnson')),\n",
        "        ('m', model)\n",
        "    ])\n",
        "    cv = RepeatedStratifiedKFold(n_splits=10, n_repeats=3, random_state=1)\n",
        "    scores = cross_val_score(pipeline, X, y, scoring='roc_auc', cv=cv, n_jobs=-1)\n",
        "    return scores\n",
        "\n",
        "# Using the DummyClassifier as your model\n",
        "model = DummyClassifier(strategy='constant', constant=1)\n",
        "scores = baseline_model(X, y, model)\n",
        "print('Mean roc_auc: %.3f (%.3f)' % (np.mean(scores), np.std(scores)))"
      ]
    },
    {
      "cell_type": "markdown",
      "metadata": {
        "id": "sa_dKgXpUPfw"
      },
      "source": [
        "Any model gets better score than baseline has skill on our problem.\n",
        "\n",
        "Any model gets lower score than baseline model, does not have skill on our problem.\n",
        "\n",
        "In this study, our baseline model gives us (Mean roc_auc: 0.500 (0.000))."
      ]
    },
    {
      "cell_type": "markdown",
      "metadata": {
        "id": "elHBVy0FUSE2"
      },
      "source": [
        "##Models"
      ]
    },
    {
      "cell_type": "code",
      "source": [
        "!pip install catboost"
      ],
      "metadata": {
        "colab": {
          "base_uri": "https://localhost:8080/"
        },
        "id": "y6KcSpGzmPLx",
        "outputId": "24929c85-a43f-4909-efd7-27506714d3d9"
      },
      "execution_count": 23,
      "outputs": [
        {
          "output_type": "stream",
          "name": "stdout",
          "text": [
            "Collecting catboost\n",
            "  Downloading catboost-1.2.1.1-cp310-cp310-manylinux2014_x86_64.whl (98.7 MB)\n",
            "\u001b[2K     \u001b[90m━━━━━━━━━━━━━━━━━━━━━━━━━━━━━━━━━━━━━━━━\u001b[0m \u001b[32m98.7/98.7 MB\u001b[0m \u001b[31m10.4 MB/s\u001b[0m eta \u001b[36m0:00:00\u001b[0m\n",
            "\u001b[?25hRequirement already satisfied: graphviz in /usr/local/lib/python3.10/dist-packages (from catboost) (0.20.1)\n",
            "Requirement already satisfied: matplotlib in /usr/local/lib/python3.10/dist-packages (from catboost) (3.7.1)\n",
            "Requirement already satisfied: numpy>=1.16.0 in /usr/local/lib/python3.10/dist-packages (from catboost) (1.23.5)\n",
            "Requirement already satisfied: pandas>=0.24 in /usr/local/lib/python3.10/dist-packages (from catboost) (1.5.3)\n",
            "Requirement already satisfied: scipy in /usr/local/lib/python3.10/dist-packages (from catboost) (1.11.2)\n",
            "Requirement already satisfied: plotly in /usr/local/lib/python3.10/dist-packages (from catboost) (5.15.0)\n",
            "Requirement already satisfied: six in /usr/local/lib/python3.10/dist-packages (from catboost) (1.16.0)\n",
            "Requirement already satisfied: python-dateutil>=2.8.1 in /usr/local/lib/python3.10/dist-packages (from pandas>=0.24->catboost) (2.8.2)\n",
            "Requirement already satisfied: pytz>=2020.1 in /usr/local/lib/python3.10/dist-packages (from pandas>=0.24->catboost) (2023.3.post1)\n",
            "Requirement already satisfied: contourpy>=1.0.1 in /usr/local/lib/python3.10/dist-packages (from matplotlib->catboost) (1.1.0)\n",
            "Requirement already satisfied: cycler>=0.10 in /usr/local/lib/python3.10/dist-packages (from matplotlib->catboost) (0.11.0)\n",
            "Requirement already satisfied: fonttools>=4.22.0 in /usr/local/lib/python3.10/dist-packages (from matplotlib->catboost) (4.42.1)\n",
            "Requirement already satisfied: kiwisolver>=1.0.1 in /usr/local/lib/python3.10/dist-packages (from matplotlib->catboost) (1.4.5)\n",
            "Requirement already satisfied: packaging>=20.0 in /usr/local/lib/python3.10/dist-packages (from matplotlib->catboost) (23.1)\n",
            "Requirement already satisfied: pillow>=6.2.0 in /usr/local/lib/python3.10/dist-packages (from matplotlib->catboost) (9.4.0)\n",
            "Requirement already satisfied: pyparsing>=2.3.1 in /usr/local/lib/python3.10/dist-packages (from matplotlib->catboost) (3.1.1)\n",
            "Requirement already satisfied: tenacity>=6.2.0 in /usr/local/lib/python3.10/dist-packages (from plotly->catboost) (8.2.3)\n",
            "Installing collected packages: catboost\n",
            "Successfully installed catboost-1.2.1.1\n"
          ]
        }
      ]
    },
    {
      "cell_type": "code",
      "execution_count": 24,
      "metadata": {
        "id": "lyy6r1SQUTD8"
      },
      "outputs": [],
      "source": [
        "from sklearn.compose import ColumnTransformer\n",
        "from sklearn.impute import SimpleImputer\n",
        "from sklearn.preprocessing import OneHotEncoder, PowerTransformer\n",
        "from sklearn.model_selection import RepeatedStratifiedKFold, cross_val_score\n",
        "from sklearn.pipeline import Pipeline\n",
        "from sklearn.linear_model import LogisticRegression, Perceptron\n",
        "from sklearn.discriminant_analysis import LinearDiscriminantAnalysis\n",
        "from sklearn.svm import SVC\n",
        "from sklearn.ensemble import RandomForestClassifier, GradientBoostingClassifier, AdaBoostClassifier, ExtraTreesClassifier\n",
        "from sklearn.tree import DecisionTreeClassifier\n",
        "from sklearn.naive_bayes import GaussianNB\n",
        "from sklearn.neural_network import MLPClassifier\n",
        "from lightgbm import LGBMClassifier\n",
        "from catboost import CatBoostClassifier\n",
        "from xgboost import XGBClassifier\n",
        "from sklearn.neighbors import KNeighborsClassifier\n",
        "from imblearn.pipeline import Pipeline as ImbPipeline\n",
        "from imblearn.over_sampling import SMOTE\n",
        "\n",
        "\n",
        "def get_models():\n",
        "    models, names = list(), list()\n",
        "\n",
        "    models.append(LogisticRegression(solver='liblinear'))\n",
        "    names.append('LR')\n",
        "\n",
        "    models.append(LinearDiscriminantAnalysis())\n",
        "    names.append('LDA')\n",
        "\n",
        "    models.append(SVC(gamma='scale'))\n",
        "    names.append('SVM')\n",
        "\n",
        "    models.append(RandomForestClassifier(random_state=42))\n",
        "    names.append('Random Forest')\n",
        "\n",
        "    models.append(GradientBoostingClassifier(random_state=42))\n",
        "    names.append('Gradient Boosting')\n",
        "\n",
        "    models.append(AdaBoostClassifier(random_state=42))\n",
        "    names.append('AdaBoost')\n",
        "\n",
        "    models.append(ExtraTreesClassifier(random_state=42))\n",
        "    names.append('Extra Trees')\n",
        "\n",
        "    models.append(CatBoostClassifier(verbose=0, random_state=42))\n",
        "    names.append('CatBoost')\n",
        "\n",
        "    models.append(LGBMClassifier(random_state=42))\n",
        "    names.append('LightGBM')\n",
        "\n",
        "    models.append(XGBClassifier(use_label_encoder=False, eval_metric='logloss', random_state=42))\n",
        "    names.append('XGBoost')\n",
        "\n",
        "    models.append(KNeighborsClassifier())\n",
        "    names.append('KNN')\n",
        "\n",
        "    models.append(GaussianNB())\n",
        "    names.append('Gaussian Naive Bayes')\n",
        "\n",
        "    models.append(DecisionTreeClassifier(random_state=42))\n",
        "    names.append('Decision Tree')\n",
        "\n",
        "    models.append(Perceptron(random_state=42))\n",
        "    names.append('Perceptron')\n",
        "\n",
        "    models.append(MLPClassifier(random_state=42, max_iter=1000))\n",
        "    names.append('MLP Neural Network')\n",
        "\n",
        "    return models, names"
      ]
    },
    {
      "cell_type": "code",
      "source": [
        "models, names = get_models()\n",
        "results = []\n",
        "\n",
        "for i in range(len(models)):\n",
        "    transformer = ColumnTransformer(transformers=[\n",
        "        ('imp', SimpleImputer(strategy='median'), numerical_columns),\n",
        "        ('o', OneHotEncoder(), categorical)\n",
        "    ])\n",
        "    pipeline = Pipeline(steps=[\n",
        "        ('t', transformer),\n",
        "        ('p', PowerTransformer(method='yeo-johnson')),\n",
        "        ('m', models[i])\n",
        "    ])\n",
        "    scores = evaluate_model(X, y, pipeline)\n",
        "    results.append(scores)\n",
        "    print(f'Model {names[i]} - Mean ROC AUC: {scores.mean():.3f} (STD: {scores.std():.3f})')"
      ],
      "metadata": {
        "colab": {
          "base_uri": "https://localhost:8080/"
        },
        "id": "GnWGFGrzm72l",
        "outputId": "e44f5f65-fe5c-4f24-c0f1-cbc5dfe71374"
      },
      "execution_count": null,
      "outputs": [
        {
          "metadata": {
            "tags": null
          },
          "name": "stderr",
          "output_type": "stream",
          "text": [
            "/usr/local/lib/python3.10/dist-packages/xgboost/sklearn.py:1395: UserWarning: `use_label_encoder` is deprecated in 1.7.0.\n",
            "  warnings.warn(\"`use_label_encoder` is deprecated in 1.7.0.\")\n"
          ]
        },
        {
          "metadata": {
            "tags": null
          },
          "name": "stdout",
          "output_type": "stream",
          "text": [
            "Model LR - Mean ROC AUC: 0.725 (STD: 0.029)\n",
            "Model LDA - Mean ROC AUC: 0.724 (STD: 0.028)\n",
            "Model SVM - Mean ROC AUC: 0.616 (STD: 0.035)\n",
            "Model Random Forest - Mean ROC AUC: 0.695 (STD: 0.026)\n",
            "Model Gradient Boosting - Mean ROC AUC: 0.700 (STD: 0.031)\n",
            "Model AdaBoost - Mean ROC AUC: 0.695 (STD: 0.039)\n",
            "Model Extra Trees - Mean ROC AUC: 0.693 (STD: 0.033)\n",
            "Model CatBoost - Mean ROC AUC: 0.690 (STD: 0.036)\n",
            "Model LightGBM - Mean ROC AUC: 0.671 (STD: 0.035)\n"
          ]
        },
        {
          "metadata": {
            "tags": null
          },
          "name": "stderr",
          "output_type": "stream",
          "text": [
            "/usr/local/lib/python3.10/dist-packages/xgboost/sklearn.py:1395: UserWarning: `use_label_encoder` is deprecated in 1.7.0.\n",
            "  warnings.warn(\"`use_label_encoder` is deprecated in 1.7.0.\")\n",
            "/usr/local/lib/python3.10/dist-packages/xgboost/sklearn.py:1395: UserWarning: `use_label_encoder` is deprecated in 1.7.0.\n",
            "  warnings.warn(\"`use_label_encoder` is deprecated in 1.7.0.\")\n",
            "/usr/local/lib/python3.10/dist-packages/xgboost/sklearn.py:1395: UserWarning: `use_label_encoder` is deprecated in 1.7.0.\n",
            "  warnings.warn(\"`use_label_encoder` is deprecated in 1.7.0.\")\n"
          ]
        },
        {
          "output_type": "stream",
          "name": "stdout",
          "text": [
            "Model XGBoost - Mean ROC AUC: 0.647 (STD: 0.039)\n",
            "Model KNN - Mean ROC AUC: 0.625 (STD: 0.033)\n",
            "Model Gaussian Naive Bayes - Mean ROC AUC: 0.704 (STD: 0.027)\n",
            "Model Decision Tree - Mean ROC AUC: 0.557 (STD: 0.028)\n",
            "Model Perceptron - Mean ROC AUC: 0.562 (STD: 0.080)\n",
            "Model MLP Neural Network - Mean ROC AUC: 0.676 (STD: 0.044)\n"
          ]
        }
      ]
    },
    {
      "cell_type": "markdown",
      "metadata": {
        "id": "sOaTK1FZhVL5"
      },
      "source": [
        "#Second Model with SMOTE (Synthetic Minority Over-sampling Technique)"
      ]
    },
    {
      "cell_type": "code",
      "execution_count": 70,
      "metadata": {
        "colab": {
          "base_uri": "https://localhost:8080/"
        },
        "id": "0OZ0XKcIhbyB",
        "outputId": "cd0973c7-1e76-4a6a-891f-c2e42d671d12"
      },
      "outputs": [
        {
          "output_type": "stream",
          "name": "stderr",
          "text": [
            "/usr/local/lib/python3.10/dist-packages/xgboost/sklearn.py:1395: UserWarning: `use_label_encoder` is deprecated in 1.7.0.\n",
            "  warnings.warn(\"`use_label_encoder` is deprecated in 1.7.0.\")\n"
          ]
        },
        {
          "output_type": "stream",
          "name": "stdout",
          "text": [
            "Model LR - Mean ROC AUC: 0.717 (STD: 0.036)\n",
            "Model LDA - Mean ROC AUC: 0.712 (STD: 0.039)\n",
            "Model SVM - Mean ROC AUC: 0.662 (STD: 0.039)\n",
            "Model Random Forest - Mean ROC AUC: 0.680 (STD: 0.039)\n",
            "Model Gradient Boosting - Mean ROC AUC: 0.695 (STD: 0.030)\n",
            "Model AdaBoost - Mean ROC AUC: 0.700 (STD: 0.032)\n",
            "Model Extra Trees - Mean ROC AUC: 0.669 (STD: 0.043)\n",
            "Model CatBoost - Mean ROC AUC: 0.666 (STD: 0.034)\n",
            "Model LightGBM - Mean ROC AUC: 0.667 (STD: 0.035)\n"
          ]
        },
        {
          "output_type": "stream",
          "name": "stderr",
          "text": [
            "/usr/local/lib/python3.10/dist-packages/xgboost/sklearn.py:1395: UserWarning: `use_label_encoder` is deprecated in 1.7.0.\n",
            "  warnings.warn(\"`use_label_encoder` is deprecated in 1.7.0.\")\n",
            "/usr/local/lib/python3.10/dist-packages/xgboost/sklearn.py:1395: UserWarning: `use_label_encoder` is deprecated in 1.7.0.\n",
            "  warnings.warn(\"`use_label_encoder` is deprecated in 1.7.0.\")\n",
            "/usr/local/lib/python3.10/dist-packages/xgboost/sklearn.py:1395: UserWarning: `use_label_encoder` is deprecated in 1.7.0.\n",
            "  warnings.warn(\"`use_label_encoder` is deprecated in 1.7.0.\")\n"
          ]
        },
        {
          "output_type": "stream",
          "name": "stdout",
          "text": [
            "Model XGBoost - Mean ROC AUC: 0.638 (STD: 0.037)\n",
            "Model KNN - Mean ROC AUC: 0.615 (STD: 0.036)\n",
            "Model Gaussian Naive Bayes - Mean ROC AUC: 0.691 (STD: 0.030)\n",
            "Model Decision Tree - Mean ROC AUC: 0.562 (STD: 0.027)\n",
            "Model Perceptron - Mean ROC AUC: 0.606 (STD: 0.055)\n",
            "Model MLP Neural Network - Mean ROC AUC: 0.601 (STD: 0.042)\n"
          ]
        }
      ],
      "source": [
        "from imblearn.pipeline import Pipeline\n",
        "from imblearn.over_sampling import SMOTE\n",
        "\n",
        "models, names = get_models()\n",
        "\n",
        "results = []\n",
        "\n",
        "for i in range(len(models)):\n",
        "    # Define the pipeline with SMOTE\n",
        "    transformer = ColumnTransformer(transformers=[\n",
        "        ('imp', SimpleImputer(strategy='median'), numerical_columns),\n",
        "        ('o', OneHotEncoder(), categorical)\n",
        "    ])\n",
        "\n",
        "    pipeline = Pipeline(steps=[\n",
        "        ('t', transformer),\n",
        "        ('s', SMOTE(random_state=42)),\n",
        "        ('p', PowerTransformer(method='yeo-johnson')),\n",
        "        ('m', models[i])\n",
        "    ])\n",
        "\n",
        "    # Evaluate the model\n",
        "    scores = evaluate_model(X, y, pipeline)\n",
        "    results.append(scores)\n",
        "\n",
        "    # Print the performance metrics\n",
        "    print(f'Model {names[i]} - Mean ROC AUC: {scores.mean():.3f} (STD: {scores.std():.3f})')\n"
      ]
    },
    {
      "cell_type": "markdown",
      "source": [
        "**Ensemble Models**:\n",
        "\n",
        "Logistic Regression (LR) - Mean ROC AUC: 0.717 (STD: 0.036)\n",
        "\n",
        "Linear Discriminant Analysis (LDA) - Mean ROC AUC: 0.712 (STD: 0.039)\n",
        "\n",
        "Support Vector Machine (SVM) - Mean ROC AUC: 0.662 (STD: 0.039)\n",
        "\n",
        "Random Forest - Mean ROC AUC: 0.680 (STD: 0.039)\n",
        "\n",
        "Gradient Boosting - Mean ROC AUC: 0.695 (STD: 0.030)\n",
        "\n",
        "AdaBoost - Mean ROC AUC: 0.700 (STD: 0.032)\n",
        "\n",
        "Extra Trees - Mean ROC AUC: 0.669 (STD: 0.043)\n",
        "\n",
        "CatBoost - Mean ROC AUC: 0.666 (STD: 0.034)\n",
        "\n",
        "LightGBM - Mean ROC AUC: 0.667 (STD: 0.035)\n",
        "\n",
        "XGBoost - Mean ROC AUC: 0.638 (STD: 0.037)\n",
        "\n",
        "**Other Models**:\n",
        "\n",
        "K-Nearest Neighbors (KNN) - Mean ROC AUC: 0.615 (STD: 0.036)\n",
        "\n",
        "Gaussian Naive Bayes - Mean ROC AUC: 0.691 (STD: 0.030)\n",
        "\n",
        "Decision Tree - Mean ROC AUC: 0.562 (STD: 0.027)\n",
        "\n",
        "Perceptron - Mean ROC AUC: 0.606 (STD: 0.055)\n",
        "\n",
        "MLP Neural Network - Mean ROC AUC: 0.601 (STD: 0.042)\n",
        "\n",
        "These scores provide an indication of how well each model performs in terms of classifying data, with higher ROC AUC scores generally indicating better performance."
      ],
      "metadata": {
        "id": "VF49Mh_0rMhQ"
      }
    },
    {
      "cell_type": "markdown",
      "source": [
        "For most models, the mean ROC AUC score decreased slightly after applying SMOTE. This might be because SMOTE can sometimes introduce noise while generating synthetic samples, leading to a decrease in the model performance.\n",
        "The standard deviation of the ROC AUC score also varies before and after applying SMOTE. Generally, it indicates the variability in the model performance across different folds in cross-validation.\n",
        "The warnings from the XGBoost model indicate the use_label_encoder parameter is deprecated in the version 1.7.0 of XGBoost. To avoid this warning, you can set use_label_encoder=False when creating your XGBoost model instance, and ensure to provide label-encoded inputs.\n",
        "\n",
        "**To address the decrease in ROC AUC after applying SMOTE, you might consider the following strategies**:\n",
        "\n",
        "Parameter Tuning: Optimize the hyperparameters of the individual models to potentially improve performance.\n",
        "\n",
        "Feature Selection/Engineering: Review the feature set being used and consider if there might be more predictive features to include or irrelevant features to remove.\n",
        "\n",
        "Data Cleaning: Ensure that the data is cleaned and preprocessed appropriately to remove noise and errors.\n",
        "\n",
        "Experiment with Different Resampling Strategies: Aside from SMOTE, there are other resampling techniques such as ADASYN, Random Over-sampling, etc.\n",
        "\n",
        "You might experiment with these to see if they offer any performance benefits.\n",
        "\n",
        "Ensemble Methods: Consider using ensemble methods such as stacking or bagging to potentially improve the predictive performance of your models.\n",
        "\n",
        "Finally, to create a robust predictive model, it is essential to experiment with various machine learning algorithms and preprocessing strategies to find the approach that delivers the best results on your specific dataset."
      ],
      "metadata": {
        "id": "5YChqRMQto5U"
      }
    },
    {
      "cell_type": "markdown",
      "source": [
        "#Model performance after feature selection due to the multicollinearity"
      ],
      "metadata": {
        "id": "T7z20Wb2-tXt"
      }
    },
    {
      "cell_type": "code",
      "source": [
        "df.drop('sysBP', axis=1, inplace=True)\n"
      ],
      "metadata": {
        "id": "yomYDGuB-zy2"
      },
      "execution_count": 26,
      "outputs": []
    },
    {
      "cell_type": "code",
      "source": [
        "from statsmodels.stats.outliers_influence import variance_inflation_factor\n",
        "\n",
        "# Create a DataFrame for VIF analysis (excluding the target variable)\n",
        "vif_data = df\n",
        "# Calculate VIF for each feature\n",
        "vif = pd.DataFrame()\n",
        "vif[\"Features\"] = vif_data.columns\n",
        "vif[\"VIF\"] = [variance_inflation_factor(vif_data.values, i) for i in range(vif_data.shape[1])]\n",
        "\n",
        "# Display the VIF values\n",
        "print(vif)"
      ],
      "metadata": {
        "colab": {
          "base_uri": "https://localhost:8080/"
        },
        "id": "pcIspDPa_1bP",
        "outputId": "0e66ea30-fdc1-463f-9db5-9846480abb0d"
      },
      "execution_count": 27,
      "outputs": [
        {
          "output_type": "stream",
          "name": "stdout",
          "text": [
            "           Features        VIF\n",
            "0              male   2.057943\n",
            "1               age  36.763391\n",
            "2     currentSmoker   4.735402\n",
            "3        cigsPerDay   4.036992\n",
            "4            BPMeds   1.018711\n",
            "5   prevalentStroke   1.017001\n",
            "6      prevalentHyp   1.970778\n",
            "7          diabetes   1.561258\n",
            "8           totChol  31.162976\n",
            "9             diaBP  70.156759\n",
            "10              BMI  45.072714\n",
            "11        heartRate  38.336295\n",
            "12          glucose  20.777699\n",
            "13       TenYearCHD   1.279185\n"
          ]
        }
      ]
    },
    {
      "cell_type": "markdown",
      "source": [
        "Based on the updated VIF values, it appears that the multicollinearity issue has been reduced significantly by removing the 'sysBP' column. Now, 'sysBP' and 'diaBP' are no longer highly correlated, and the VIF values for most features have decreased."
      ],
      "metadata": {
        "id": "lmZstey2Bi1Z"
      }
    },
    {
      "cell_type": "code",
      "source": [
        "y= df['TenYearCHD']\n",
        "X=df.drop('TenYearCHD', axis=1)\n",
        "categorical=['male', 'currentSmoker', 'BPMeds', 'prevalentStroke', 'prevalentHyp', 'diabetes']\n",
        "numerical_columns=['age', 'cigsPerDay', 'BPMeds', 'totChol', 'diaBP', 'BMI', 'heartRate', 'glucose']"
      ],
      "metadata": {
        "id": "r78fk0KtAV8T"
      },
      "execution_count": 28,
      "outputs": []
    },
    {
      "cell_type": "code",
      "source": [
        "models, names = get_models()\n",
        "results = []\n",
        "\n",
        "for i in range(len(models)):\n",
        "    transformer = ColumnTransformer(transformers=[\n",
        "        ('imp', SimpleImputer(strategy='median'), numerical_columns),\n",
        "        ('o', OneHotEncoder(), categorical)\n",
        "    ])\n",
        "    pipeline = Pipeline(steps=[\n",
        "        ('t', transformer),\n",
        "        ('p', PowerTransformer(method='yeo-johnson')),\n",
        "        ('m', models[i])\n",
        "    ])\n",
        "    scores = evaluate_model(X, y, pipeline)\n",
        "    results.append(scores)\n",
        "    print(f'Model {names[i]} - Mean ROC AUC: {scores.mean():.3f} (STD: {scores.std():.3f})')"
      ],
      "metadata": {
        "colab": {
          "base_uri": "https://localhost:8080/"
        },
        "id": "Qhszm9C5AJuK",
        "outputId": "e8e9775a-0f5c-46ad-fffd-115b041a1f3f"
      },
      "execution_count": null,
      "outputs": [
        {
          "output_type": "stream",
          "name": "stderr",
          "text": [
            "/usr/local/lib/python3.10/dist-packages/xgboost/sklearn.py:1395: UserWarning: `use_label_encoder` is deprecated in 1.7.0.\n",
            "  warnings.warn(\"`use_label_encoder` is deprecated in 1.7.0.\")\n"
          ]
        },
        {
          "output_type": "stream",
          "name": "stdout",
          "text": [
            "Model LR - Mean ROC AUC: 0.722 (STD: 0.028)\n",
            "Model LDA - Mean ROC AUC: 0.720 (STD: 0.027)\n",
            "Model SVM - Mean ROC AUC: 0.611 (STD: 0.037)\n",
            "Model Random Forest - Mean ROC AUC: 0.680 (STD: 0.034)\n",
            "Model Gradient Boosting - Mean ROC AUC: 0.697 (STD: 0.032)\n",
            "Model AdaBoost - Mean ROC AUC: 0.693 (STD: 0.037)\n",
            "Model Extra Trees - Mean ROC AUC: 0.678 (STD: 0.037)\n"
          ]
        }
      ]
    },
    {
      "cell_type": "markdown",
      "source": [
        "Check the models performance with scaling and one hot encoding"
      ],
      "metadata": {
        "id": "bAS9ZNGOpzNV"
      }
    },
    {
      "cell_type": "code",
      "source": [
        "from sklearn.preprocessing import StandardScaler\n",
        "\n",
        "# List of the non-binary numerical columns\n",
        "non_binary_numerical_columns = [\n",
        "    'age', 'cigsPerDay', 'totChol', 'sysBP',\n",
        "    'diaBP', 'BMI', 'heartRate', 'glucose'\n",
        "]\n",
        "\n",
        "# Scale only the non-binary numerical columns using the df_encoded DataFrame\n",
        "scaler = StandardScaler()\n",
        "df_encoded[non_binary_numerical_columns] = scaler.fit_transform(df_encoded[non_binary_numerical_columns])\n",
        "\n",
        "# Display the DataFrame after scaling the non-binary numerical columns\n",
        "print(df_encoded)\n",
        "\n",
        "\n"
      ],
      "metadata": {
        "colab": {
          "base_uri": "https://localhost:8080/"
        },
        "id": "ualR5TSPp30t",
        "outputId": "a4bfc06b-00d5-447f-b0ef-2e8ecc8871c0"
      },
      "execution_count": 129,
      "outputs": [
        {
          "output_type": "stream",
          "name": "stdout",
          "text": [
            "      male       age  currentSmoker  cigsPerDay  BPMeds  prevalentStroke  \\\n",
            "0        1 -1.234283              0   -0.751412     0.0                0   \n",
            "1        0 -0.417664              0   -0.751412     0.0                0   \n",
            "2        1 -0.184345              1    0.928784     0.0                0   \n",
            "3        0  1.332233              1    1.768882     0.0                0   \n",
            "4        0 -0.417664              1    1.180813     0.0                0   \n",
            "...    ...       ...            ...         ...     ...              ...   \n",
            "4235     0 -0.184345              1    0.928784    75.0                0   \n",
            "4236     0 -0.650984              1    0.508735     0.0                0   \n",
            "4237     0  0.282295              0   -0.751412     0.0                0   \n",
            "4238     1 -1.117623              0   -0.751412     0.0                0   \n",
            "4239     0 -1.234283              1    1.768882     0.0                0   \n",
            "\n",
            "      prevalentHyp  diabetes   totChol     sysBP     diaBP       BMI  \\\n",
            "0                0         0 -0.940825 -1.196267 -1.083027  0.287258   \n",
            "1                0         0  0.300085 -0.515399 -0.159355  0.719668   \n",
            "2                0         0  0.187275 -0.220356 -0.243325 -0.113213   \n",
            "3                1         0 -0.263965  0.800946  1.016227  0.682815   \n",
            "4                0         0  1.089756 -0.106878  0.092555 -0.663554   \n",
            "...            ...       ...       ...       ...       ...       ...   \n",
            "4235             0         0  0.254961 -0.061487 -0.915087 -0.933810   \n",
            "4236             0         0 -0.602395 -0.265747  0.344466 -1.631564   \n",
            "4237             0         0  0.728764  0.051991  0.008585 -1.064025   \n",
            "4238             1         0 -1.166445  0.392425  1.268138 -0.049334   \n",
            "4239             0         0 -0.918263  0.029296  0.260496 -1.201610   \n",
            "\n",
            "      heartRate       glucose  TenYearCHD  education_1.0  education_2.0  \\\n",
            "0      0.342792 -2.174271e-01           0              0              0   \n",
            "1      1.590451 -2.612309e-01           0              0              1   \n",
            "2     -0.073094 -5.240539e-01           0              1              0   \n",
            "3     -0.904866  9.214724e-01           1              0              0   \n",
            "4      0.758678  1.330035e-01           0              0              0   \n",
            "...         ...           ...         ...            ...            ...   \n",
            "4235   0.675501  1.768073e-01           0              0              1   \n",
            "4236   0.841856 -2.303507e-16           0              1              0   \n",
            "4237   0.342792  1.096688e+00           0              0              1   \n",
            "4238  -0.738512 -4.364462e-01           0              0              0   \n",
            "4239   0.758678 -8.601561e-02           0              0              0   \n",
            "\n",
            "      education_3.0  education_4.0  education_75.0  \n",
            "0                 0              1               0  \n",
            "1                 0              0               0  \n",
            "2                 0              0               0  \n",
            "3                 1              0               0  \n",
            "4                 1              0               0  \n",
            "...             ...            ...             ...  \n",
            "4235              0              0               0  \n",
            "4236              0              0               0  \n",
            "4237              0              0               0  \n",
            "4238              1              0               0  \n",
            "4239              1              0               0  \n",
            "\n",
            "[4240 rows x 20 columns]\n"
          ]
        }
      ]
    },
    {
      "cell_type": "code",
      "source": [
        "y_encoded= df_encoded['TenYearCHD']\n",
        "X_encoded = df_encoded.drop('TenYearCHD', axis=1)\n",
        "# Define the numerical and categorical columns\n",
        "# Define the numerical and categorical columns\n",
        "numerical_columns = [\n",
        "    'age', 'cigsPerDay', 'totChol', 'sysBP', 'diaBP', 'BMI', 'heartRate', 'glucose']\n",
        "categorical_columns = [\n",
        "    'male', 'education_1.0', 'education_2.0', 'education_3.0', 'education_4.0', 'education_75.0',\n",
        "    'currentSmoker', 'BPMeds', 'prevalentStroke', 'prevalentHyp', 'diabetes']\n",
        "\n"
      ],
      "metadata": {
        "id": "_K0NKf9bysCy"
      },
      "execution_count": 131,
      "outputs": []
    },
    {
      "cell_type": "code",
      "source": [
        "models, names = get_models()\n",
        "results = []\n",
        "\n",
        "for i in range(len(models)):\n",
        "    transformer = ColumnTransformer(transformers=[\n",
        "        ('imp', SimpleImputer(strategy='median'), X.columns),\n",
        "        ('o', OneHotEncoder(), categorical_columns)\n",
        "    ])\n",
        "    pipeline = Pipeline(steps=[\n",
        "        ('t', transformer),\n",
        "        ('p', PowerTransformer(method='yeo-johnson')),\n",
        "        ('m', models[i])\n",
        "    ])\n",
        "    scores = evaluate_model(X_encoded, y_encoded, pipeline)\n",
        "    results.append(scores)\n",
        "    print(f'Model {names[i]} - Mean ROC AUC: {scores.mean():.3f} (STD: {scores.std():.3f})')"
      ],
      "metadata": {
        "id": "AA6WDE4pt6tF"
      },
      "execution_count": null,
      "outputs": []
    },
    {
      "cell_type": "code",
      "source": [
        "y_encoded"
      ],
      "metadata": {
        "colab": {
          "base_uri": "https://localhost:8080/"
        },
        "id": "sD_ORZDA4mk0",
        "outputId": "996b4ded-42ab-41ea-80b5-5638dc4955b0"
      },
      "execution_count": 120,
      "outputs": [
        {
          "output_type": "execute_result",
          "data": {
            "text/plain": [
              "0       0\n",
              "1       0\n",
              "2       0\n",
              "3       1\n",
              "4       0\n",
              "       ..\n",
              "4235    0\n",
              "4236    0\n",
              "4237    0\n",
              "4238    0\n",
              "4239    0\n",
              "Name: TenYearCHD, Length: 4240, dtype: int64"
            ]
          },
          "metadata": {},
          "execution_count": 120
        }
      ]
    },
    {
      "cell_type": "code",
      "source": [
        "print(X_encoded.columns)\n",
        "\n"
      ],
      "metadata": {
        "colab": {
          "base_uri": "https://localhost:8080/"
        },
        "id": "Kths2JU3ybP1",
        "outputId": "10450826-fad8-42c1-ac54-bbfe6741c8d2"
      },
      "execution_count": 121,
      "outputs": [
        {
          "output_type": "stream",
          "name": "stdout",
          "text": [
            "Index(['male', 'age', 'currentSmoker', 'cigsPerDay', 'BPMeds',\n",
            "       'prevalentStroke', 'prevalentHyp', 'diabetes', 'totChol', 'sysBP',\n",
            "       'diaBP', 'BMI', 'heartRate', 'glucose', 'education_1.0',\n",
            "       'education_2.0', 'education_3.0', 'education_4.0', 'education_75.0'],\n",
            "      dtype='object')\n"
          ]
        }
      ]
    }
  ],
  "metadata": {
    "colab": {
      "provenance": [],
      "authorship_tag": "ABX9TyNpVfMTN/aj6XVKlUI7F5bu",
      "include_colab_link": true
    },
    "kernelspec": {
      "display_name": "Python 3",
      "name": "python3"
    },
    "language_info": {
      "name": "python"
    }
  },
  "nbformat": 4,
  "nbformat_minor": 0
}